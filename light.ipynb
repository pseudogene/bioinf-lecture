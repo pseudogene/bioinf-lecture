{
 "cells": [
  {
   "cell_type": "markdown",
   "metadata": {
    "colab_type": "text",
    "id": "ZrfxXRhwzed-"
   },
   "source": [
    "# Transcriptome analysis 101\n",
    "\n",
    "Here is a simple example of transcriptomic analysis"
   ]
  },
  {
   "cell_type": "markdown",
   "metadata": {
    "colab_type": "text",
    "id": "PWreHjNczsgO"
   },
   "source": [
    "## Install essential analytic and visualisation packages\n"
   ]
  },
  {
   "cell_type": "markdown",
   "metadata": {
    "colab_type": "text",
    "id": "D-ReFEIn5L2J"
   },
   "source": [
    "4 packages are needed for this tutorial\n",
    "* [DESeq2](https://bioconductor.org/packages/release/bioc/html/DESeq2.html)\n",
    "* [ashr](https://cran.r-project.org/web/packages/ashr/), needed by DESeq2\n",
    "* [EnhancedVolcano](https://bioconductor.org/packages/release/bioc/html/EnhancedVolcano.html)\n",
    "* [pheatmap](https://cran.r-project.org/web/packages/pheatmap/)"
   ]
  },
  {
   "cell_type": "markdown",
   "metadata": {},
   "source": [
    "If you need to install those packages. The current version of R and Jupyter already have those installed."
   ]
  },
  {
   "cell_type": "code",
   "execution_count": null,
   "metadata": {
    "colab": {
     "base_uri": "https://localhost:8080/",
     "height": 211
    },
    "colab_type": "code",
    "id": "UoEdGQqFuWLy",
    "outputId": "d45321e3-4f29-4762-b1d6-36fdc6da7791"
   },
   "outputs": [],
   "source": [
    "#if (!requireNamespace(\"BiocManager\", quietly = TRUE))\n",
    "#    install.packages(\"BiocManager\");\n",
    "#\n",
    "# Install DESeq2 (Transcriptome analysis)\n",
    "#BiocManager::install(\"DESeq2\");\n",
    "#\n",
    "# Install EnhancedVolcano (Volcano plot)\n",
    "#BiocManager::install(\"EnhancedVolcano\");\n",
    "#\n",
    "# Install ashr (Empirical Bayes approach for large-scale hypothesis testing and false discovery rate (FDR) estimation)\n",
    "#install.packages(\"ashr\", quietly = TRUE);\n",
    "#\n",
    "# Install pheatmap (Pretty heatmaps)\n",
    "#install.packages(\"pheatmap\", quietly = TRUE);"
   ]
  },
  {
   "cell_type": "markdown",
   "metadata": {
    "colab_type": "text",
    "id": "6zda8YtM01Gi"
   },
   "source": [
    "## Load package and datasets"
   ]
  },
  {
   "cell_type": "code",
   "execution_count": null,
   "metadata": {
    "colab": {},
    "colab_type": "code",
    "id": "E0gFh9-BxzPF",
    "scrolled": true
   },
   "outputs": [],
   "source": [
    "library(\"DESeq2\");\n",
    "library(\"ashr\");\n",
    "library(\"EnhancedVolcano\");\n",
    "library(\"pheatmap\");"
   ]
  },
  {
   "cell_type": "code",
   "execution_count": null,
   "metadata": {
    "colab": {},
    "colab_type": "code",
    "id": "fGGeV9gb1EOZ"
   },
   "outputs": [],
   "source": [
    "countData <- as.matrix(read.csv(\"gene_count_matrix.csv\", row.names=\"gene_id\"));\n",
    "colData <- read.csv(\"pheno.csv\", sep=\",\", row.names=1);"
   ]
  },
  {
   "cell_type": "code",
   "execution_count": null,
   "metadata": {
    "colab": {},
    "colab_type": "code",
    "id": "fdFX8NrGyNjw"
   },
   "outputs": [],
   "source": [
    "# First 5 row of transcriptomic data. For each gene (row), the absolute expression level for each sample (KPRM)\n",
    "head(countData);"
   ]
  },
  {
   "cell_type": "code",
   "execution_count": null,
   "metadata": {
    "colab": {},
    "colab_type": "code",
    "id": "rXr6OEq_yRoc"
   },
   "outputs": [],
   "source": [
    "# Experimental conditions (Natural light = Control)\n",
    "colData;"
   ]
  },
  {
   "cell_type": "markdown",
   "metadata": {
    "colab_type": "text",
    "id": "vBSbOOYJ8akN"
   },
   "source": [
    "## Process the dataset"
   ]
  },
  {
   "cell_type": "markdown",
   "metadata": {
    "colab_type": "text",
    "id": "gSVNdd3w1p2p"
   },
   "source": [
    "Process the dataset, associate expression level and condition. Explicitly fix control condition as `natural`."
   ]
  },
  {
   "cell_type": "code",
   "execution_count": null,
   "metadata": {
    "colab": {},
    "colab_type": "code",
    "id": "zun6URVCyZb1"
   },
   "outputs": [],
   "source": [
    "dds <- DESeqDataSetFromMatrix(countData = countData, colData = colData, design = ~ condition);\n",
    "dds$condition <- relevel(dds$condition, ref = \"natural\");\n",
    "dds <- DESeq(dds);"
   ]
  },
  {
   "cell_type": "markdown",
   "metadata": {
    "colab_type": "text",
    "id": "2etnLmnLyvsv"
   },
   "source": [
    "Run a [PCA analysis](https://en.wikipedia.org/wiki/Principal_component_analysis) of the normalised data"
   ]
  },
  {
   "cell_type": "code",
   "execution_count": null,
   "metadata": {
    "colab": {},
    "colab_type": "code",
    "id": "ggY5Ko5kyjqd"
   },
   "outputs": [],
   "source": [
    "vsd <- vst(dds);\n",
    "plotPCA(vsd, intgroup=c(\"condition\"));"
   ]
  },
  {
   "cell_type": "markdown",
   "metadata": {
    "colab_type": "text",
    "id": "dTo-oV0W2R5l"
   },
   "source": [
    "Analyse the data. Compare `light` (24/7) vs Control (Natural cycle)"
   ]
  },
  {
   "cell_type": "code",
   "execution_count": null,
   "metadata": {
    "colab": {},
    "colab_type": "code",
    "id": "9M3QRoz2ysyZ"
   },
   "outputs": [],
   "source": [
    "res <- lfcShrink(dds, contrast=c(\"condition\",\"light\",\"natural\"), type=\"ashr\");\n",
    "head(res);"
   ]
  },
  {
   "cell_type": "markdown",
   "metadata": {
    "colab_type": "text",
    "id": "IYbWr_ex2c8a"
   },
   "source": [
    "How many gene are differentialy expressed?\n",
    "`padj` is is P-value (`pvalue`) corrected for multiple testing. So we want to use that. `padj < 0.001`."
   ]
  },
  {
   "cell_type": "code",
   "execution_count": null,
   "metadata": {
    "colab": {},
    "colab_type": "code",
    "id": "OYrh0gZA2hoL"
   },
   "outputs": [],
   "source": [
    "sum(res$padj < 0.001, na.rm=TRUE); # ignore the empty results (gene with not enough expression data)"
   ]
  },
  {
   "cell_type": "markdown",
   "metadata": {
    "colab_type": "text",
    "id": "S6E2FAbb4X54"
   },
   "source": [
    "Also we can check the expression change with `log2FoldChange`. This is the log(2) of the change of expression. So a 2x increase of expression is log2(2) = 1 while a 3x decrease woulv be -log2(3) = -1.58496250072116.  "
   ]
  },
  {
   "cell_type": "code",
   "execution_count": null,
   "metadata": {
    "colab": {},
    "colab_type": "code",
    "id": "ZV_UZ_wG3mg9"
   },
   "outputs": [],
   "source": [
    "sum(res$padj < 0.001 & abs(res$log2FoldChange) >= log2(3), na.rm=TRUE); # Change 2x (increase and decrease)"
   ]
  },
  {
   "cell_type": "markdown",
   "metadata": {
    "colab_type": "text",
    "id": "XtQYezjS8lIo"
   },
   "source": [
    "## Visualise"
   ]
  },
  {
   "cell_type": "markdown",
   "metadata": {
    "colab_type": "text",
    "id": "EUHvilQz6IAM"
   },
   "source": [
    "Visualise the results with a _classic_ [volcano plot](https://en.wikipedia.org/wiki/Volcano_plot_(statistics)) using `EnhancedVolcano`. Here is a [tutorial](https://www.bioconductor.org/packages/release/bioc/vignettes/EnhancedVolcano/inst/doc/EnhancedVolcano.html) is you want to change the output."
   ]
  },
  {
   "cell_type": "code",
   "execution_count": null,
   "metadata": {
    "colab": {},
    "colab_type": "code",
    "id": "avkaaTx70IWf"
   },
   "outputs": [],
   "source": [
    "EnhancedVolcano(res, lab = rownames(res), pCutoff = 0.001, FCcutoff = 3, x = 'log2FoldChange', y = 'padj', xlim = c(-12, 8),title=\"light vs natural\");"
   ]
  },
  {
   "cell_type": "markdown",
   "metadata": {
    "colab_type": "text",
    "id": "ADZ1PslK6ZYk"
   },
   "source": [
    "Another classic view is an [heatmap](https://en.wikipedia.org/wiki/Heat_map) view that associated the data by conditions. Here is a [tutorial](https://davetang.org/muse/2018/05/15/making-a-heatmap-in-r-with-the-pheatmap-package/) is you want to change the apparence."
   ]
  },
  {
   "cell_type": "code",
   "execution_count": null,
   "metadata": {
    "colab": {},
    "colab_type": "code",
    "id": "WrV-ck-T6kRr"
   },
   "outputs": [],
   "source": [
    "df <- as.data.frame(colData(vsd)[,c(\"condition\")]);\n",
    "rownames(df) <- colnames(assay(vsd));\n",
    "pheatmap(assay(vsd)[which(res$padj < 0.001 & abs(res$log2FoldChange) >= log2(3)),], cluster_rows=TRUE, show_rownames=FALSE, cluster_cols=FALSE, annotation_col=df, scale=\"row\", border_color=\"white\");"
   ]
  },
  {
   "cell_type": "markdown",
   "metadata": {
    "colab_type": "text",
    "id": "MXvY5D6G8sr0"
   },
   "source": [
    "## Save and extract genes of interest"
   ]
  },
  {
   "cell_type": "markdown",
   "metadata": {},
   "source": [
    "Re-order the gene list by adjusted P-value and save it."
   ]
  },
  {
   "cell_type": "code",
   "execution_count": null,
   "metadata": {
    "colab": {},
    "colab_type": "code",
    "id": "bpyYpEiI7oTX"
   },
   "outputs": [],
   "source": [
    "resOrdered <- res[order(res$padj), ];\n",
    "write.csv(as.data.frame(resOrdered), file=\"condition_light_vs_natural.csv\");"
   ]
  },
  {
   "cell_type": "markdown",
   "metadata": {},
   "source": [
    "Make a list of the genes of interest"
   ]
  },
  {
   "cell_type": "code",
   "execution_count": null,
   "metadata": {
    "colab": {},
    "colab_type": "code",
    "id": "7CZ3fGBa7zgs"
   },
   "outputs": [],
   "source": [
    "light_list <- which(res$padj < 0.001 & abs(res$log2FoldChange) >= log2(3));\n",
    "light_list"
   ]
  },
  {
   "cell_type": "markdown",
   "metadata": {},
   "source": [
    "Plot the gene with be lowest adjusted P-value."
   ]
  },
  {
   "cell_type": "code",
   "execution_count": null,
   "metadata": {
    "colab": {},
    "colab_type": "code",
    "id": "lx8Tknyy7jw9"
   },
   "outputs": [],
   "source": [
    "plotCounts(dds, gene=which.min(res$padj), intgroup=\"condition\");"
   ]
  },
  {
   "cell_type": "markdown",
   "metadata": {
    "colab_type": "text",
    "id": "gJOE6k_R8yx5"
   },
   "source": [
    "## Misc."
   ]
  },
  {
   "cell_type": "code",
   "execution_count": null,
   "metadata": {
    "colab": {},
    "colab_type": "code",
    "id": "eK4_XBB-7dWK"
   },
   "outputs": [],
   "source": [
    "# Normalised\n",
    "head(assay(vsd)[light_list,]);"
   ]
  },
  {
   "cell_type": "code",
   "execution_count": null,
   "metadata": {
    "colab": {},
    "colab_type": "code",
    "id": "VmQgG3HA7gYP"
   },
   "outputs": [],
   "source": [
    "# Not normlised\n",
    "head(assay(dds)[light_list,]);"
   ]
  }
 ],
 "metadata": {
  "colab": {
   "collapsed_sections": [],
   "name": "Copy of Untitled3.ipynb",
   "provenance": [],
   "toc_visible": true
  },
  "kernelspec": {
   "display_name": "R",
   "language": "R",
   "name": "ir"
  },
  "language_info": {
   "codemirror_mode": "r",
   "file_extension": ".r",
   "mimetype": "text/x-r-source",
   "name": "R",
   "pygments_lexer": "r",
   "version": "4.0.1"
  }
 },
 "nbformat": 4,
 "nbformat_minor": 1
}
